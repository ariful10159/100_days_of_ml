{
 "cells": [
  {
   "cell_type": "code",
   "execution_count": 6,
   "id": "4bf9bc99-f472-4173-b29f-0745349161c4",
   "metadata": {},
   "outputs": [],
   "source": [
    "import pickle\n",
    "import numpy as np"
   ]
  },
  {
   "cell_type": "code",
   "execution_count": 7,
   "id": "7c71fc8f-de88-4390-bb1b-200450fbbb38",
   "metadata": {},
   "outputs": [],
   "source": [
    "\n",
    "# encode madel covert to decode \n",
    "ohe_sex = pickle.load(open('models/ohe_sex.pkl','rb'))\n",
    "ohe_embarked = pickle.load(open('models/ohe_embarked.pkl','rb'))\n",
    "clf = pickle.load(open('models/clf.pkl','rb'))\n",
    "\n"
   ]
  },
  {
   "cell_type": "code",
   "execution_count": 8,
   "id": "90a785c9-835a-4aa4-87a1-54c328c19afe",
   "metadata": {},
   "outputs": [],
   "source": [
    "# Assume user input\n",
    "# Pclass/gender/age/SibSp/Parch/Fare/Embarked\n",
    "test_input = np.array([2, 'male', 31.0, 0, 0, 10.5, 'S'],dtype=object).reshape(1,7)"
   ]
  },
  {
   "cell_type": "code",
   "execution_count": 9,
   "id": "57d0d4b9-63c9-4024-9fa3-e70658d8323b",
   "metadata": {},
   "outputs": [
    {
     "data": {
      "text/plain": [
       "array([[2, 'male', 31.0, 0, 0, 10.5, 'S']], dtype=object)"
      ]
     },
     "execution_count": 9,
     "metadata": {},
     "output_type": "execute_result"
    }
   ],
   "source": [
    "test_input"
   ]
  },
  {
   "cell_type": "code",
   "execution_count": 11,
   "id": "8d8a9cba-028c-49dc-a2d7-c9d2b31c4bbe",
   "metadata": {},
   "outputs": [
    {
     "ename": "NameError",
     "evalue": "name 'pd' is not defined",
     "output_type": "error",
     "traceback": [
      "\u001b[1;31m---------------------------------------------------------------------------\u001b[0m",
      "\u001b[1;31mNameError\u001b[0m                                 Traceback (most recent call last)",
      "Cell \u001b[1;32mIn[11], line 1\u001b[0m\n\u001b[1;32m----> 1\u001b[0m gender_df \u001b[38;5;241m=\u001b[39m pd\u001b[38;5;241m.\u001b[39mDataFrame({\u001b[38;5;124m'\u001b[39m\u001b[38;5;124mgender\u001b[39m\u001b[38;5;124m'\u001b[39m: [\u001b[38;5;124m'\u001b[39m\u001b[38;5;124mmale\u001b[39m\u001b[38;5;124m'\u001b[39m]})\n\u001b[0;32m      2\u001b[0m test_input_gender_encoded \u001b[38;5;241m=\u001b[39m ohe_sex\u001b[38;5;241m.\u001b[39mtransform(gender_df)\n",
      "\u001b[1;31mNameError\u001b[0m: name 'pd' is not defined"
     ]
    }
   ],
   "source": [
    "gender_df = pd.DataFrame({'gender': ['male']})\n",
    "test_input_gender_encoded = ohe_sex.transform(gender_df)"
   ]
  },
  {
   "cell_type": "code",
   "execution_count": 12,
   "id": "be7186f5-4b0e-463f-af80-a2671b2abbe6",
   "metadata": {},
   "outputs": [],
   "source": [
    "import pandas as pd"
   ]
  },
  {
   "cell_type": "code",
   "execution_count": 13,
   "id": "6dc21dec-a66c-4222-af81-08969b3a3aeb",
   "metadata": {},
   "outputs": [],
   "source": [
    "# gender অংশ DataFrame এ নেয়া\n",
    "gender_df = pd.DataFrame({'gender': ['male']})"
   ]
  },
  {
   "cell_type": "code",
   "execution_count": 15,
   "id": "48537877-ed0f-4e5a-b1f2-3695380df12b",
   "metadata": {},
   "outputs": [],
   "source": [
    "sex_df = pd.DataFrame({'Sex': ['male']})   # অবশ্যই 'Sex' লিখবে\n",
    "test_input_sex = ohe_sex.transform(sex_df)"
   ]
  },
  {
   "cell_type": "code",
   "execution_count": 16,
   "id": "73949f22-8d64-488e-938d-93df058742c3",
   "metadata": {},
   "outputs": [
    {
     "data": {
      "text/plain": [
       "array([[0., 1.]])"
      ]
     },
     "execution_count": 16,
     "metadata": {},
     "output_type": "execute_result"
    }
   ],
   "source": [
    "test_input_sex"
   ]
  },
  {
   "cell_type": "code",
   "execution_count": 17,
   "id": "6cafd740-7672-4298-bc43-7bf910aa560c",
   "metadata": {},
   "outputs": [],
   "source": [
    "test_input_embarked = ohe_embarked.transform(test_input[:,-1].reshape(1,1))"
   ]
  },
  {
   "cell_type": "code",
   "execution_count": 18,
   "id": "ffa7cbc1-e111-4659-9c5f-2a338160c005",
   "metadata": {},
   "outputs": [
    {
     "data": {
      "text/plain": [
       "array([[0., 0., 1.]])"
      ]
     },
     "execution_count": 18,
     "metadata": {},
     "output_type": "execute_result"
    }
   ],
   "source": [
    "test_input_embarked"
   ]
  },
  {
   "cell_type": "code",
   "execution_count": 19,
   "id": "1c8af16d-4043-468f-881a-1f0dbdd4697b",
   "metadata": {},
   "outputs": [],
   "source": [
    "test_input_age = test_input[:,2].reshape(1,1)"
   ]
  },
  {
   "cell_type": "code",
   "execution_count": 20,
   "id": "9c81b92e-09cc-4887-9c3f-4dd98938e42c",
   "metadata": {},
   "outputs": [],
   "source": [
    "\n",
    "\n",
    "test_input_transformed = np.concatenate((test_input[:,[0,3,4,5]],test_input_age,test_input_sex,test_input_embarked),axis=1)\n",
    "\n"
   ]
  },
  {
   "cell_type": "code",
   "execution_count": 21,
   "id": "b831084d-52dc-4521-b12c-a5c4d8b5f1d5",
   "metadata": {},
   "outputs": [
    {
     "data": {
      "text/plain": [
       "(1, 10)"
      ]
     },
     "execution_count": 21,
     "metadata": {},
     "output_type": "execute_result"
    }
   ],
   "source": [
    "test_input_transformed.shape"
   ]
  },
  {
   "cell_type": "code",
   "execution_count": 22,
   "id": "add79d30-240b-49c0-9289-b7cb1e394ab1",
   "metadata": {},
   "outputs": [
    {
     "data": {
      "text/plain": [
       "array([0])"
      ]
     },
     "execution_count": 22,
     "metadata": {},
     "output_type": "execute_result"
    }
   ],
   "source": [
    "clf.predict(test_input_transformed)"
   ]
  },
  {
   "cell_type": "code",
   "execution_count": 23,
   "id": "75c3d429-b786-45de-ab78-7eeab128adcd",
   "metadata": {},
   "outputs": [
    {
     "name": "stdout",
     "output_type": "stream",
     "text": [
      "Prediction (1=Survived, 0=Not Survived): 0\n"
     ]
    }
   ],
   "source": [
    "prediction = clf.predict(test_input_transformed)\n",
    "print(\"Prediction (1=Survived, 0=Not Survived):\", prediction[0])\n"
   ]
  },
  {
   "cell_type": "code",
   "execution_count": null,
   "id": "aa123fb2-c933-45e7-a13c-8755190f2bf9",
   "metadata": {},
   "outputs": [],
   "source": []
  }
 ],
 "metadata": {
  "kernelspec": {
   "display_name": "Python 3 (ipykernel)",
   "language": "python",
   "name": "python3"
  },
  "language_info": {
   "codemirror_mode": {
    "name": "ipython",
    "version": 3
   },
   "file_extension": ".py",
   "mimetype": "text/x-python",
   "name": "python",
   "nbconvert_exporter": "python",
   "pygments_lexer": "ipython3",
   "version": "3.13.5"
  }
 },
 "nbformat": 4,
 "nbformat_minor": 5
}
